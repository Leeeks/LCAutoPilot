{
 "cells": [
  {
   "cell_type": "markdown",
   "id": "2c81d084-1cc1-4b8c-907d-5f6707082c62",
   "metadata": {
    "editable": true,
    "slideshow": {
     "slide_type": ""
    },
    "tags": []
   },
   "source": [
    "# Demonstration - Python with openLCA2 \n",
    "## a demonstration of the olca-ipc and olca-schema modules for openLCA2\n"
   ]
  },
  {
   "cell_type": "markdown",
   "id": "9ef4d00d-162c-434e-ae84-e3b85c3bc9a9",
   "metadata": {},
   "source": [
    "This Jupyter Notebook has been written to introduce the olca-ipc module and olca-schema module for openLCA2. These modules can only be used with openLCA2 (12.02.2023 release or younger). Please note that the concepts outlined here may be subject to future changes. To run a code cell in a Jupyter Notebook either press the grey play button at the top of the screen or press Ctrl + Enter."
   ]
  },
  {
   "cell_type": "markdown",
   "id": "1f0fffad-c883-41c3-ae14-f3ef77829d5a",
   "metadata": {
    "tags": []
   },
   "source": [
    "## Resources\n",
    "\n",
    "The following links contain the resources on which this Jupyter Notebook was based as well as some useful links to other openLCA and Python related resources:\n",
    "    \n",
    "**pip installation:**\n",
    "- https://pypi.org/project/olca-ipc/2.0.0a4/\n",
    "- https://pypi.org/project/olca-schema/\n",
    "\n",
    "**module documentation**\n",
    "- https://greendelta.github.io/openLCA-ApiDoc/ipc/\n",
    "- http://greendelta.github.io/olca-schema/\n",
    "\n",
    "**download openLCA2.0**\n",
    "- https://www.openlca.org/download\n",
    "- https://share.greendelta.com/index.php/s/76uAFtMKDIWGoXC\n",
    "\n",
    "**Jython editor in openLCA**\n",
    "- https://github.com/GreenDelta/openlca-python-tutorial\n",
    "- https://github.com/GreenDelta/openlca-python-tutorial/blob/master/examples.md"
   ]
  },
  {
   "cell_type": "markdown",
   "id": "ba7ca672-2758-4ffd-8e2d-08da51fc84a8",
   "metadata": {},
   "source": [
    "## Installation\n",
    "\n",
    "Both the olca-ipc and the olca-schema module can be installed with pip using:\n",
    "\n",
    "    pip install olca-ipc\n",
    "    pip install olca-schema\n",
    "    \n",
    "However, when you pip install the olca-ipc module the olca-schema module gets installed as well and therefore does not require a separate installation. \n",
    "\n"
   ]
  },
  {
   "cell_type": "markdown",
   "id": "9465596c-654d-4666-9ca0-72737d6631f1",
   "metadata": {},
   "source": [
    "_Did anybody have trouble installing these modules?_"
   ]
  },
  {
   "cell_type": "markdown",
   "id": "6ac72336-7394-4506-8012-8652b0de1234",
   "metadata": {},
   "source": [
    "## Working with the olca-schema module"
   ]
  },
  {
   "cell_type": "markdown",
   "id": "135bcb25-3389-4318-b990-6b38cd4b6fdb",
   "metadata": {},
   "source": [
    "### JSON-LD and the openLCA schema"
   ]
  },
  {
   "cell_type": "markdown",
   "id": "9d233665-a83a-40fa-92e2-9ce012ea4505",
   "metadata": {
    "editable": true,
    "slideshow": {
     "slide_type": ""
    },
    "tags": []
   },
   "source": [
    "The openLCA schema is a typed data format with the type __Entity__ as the starting point. An Entity is basically a set of key-value pairs, also called fields. Every field has its specific type which can be:\n",
    "\n",
    "- a number (integer or floating point number),\n",
    "- a Boolean value (true or false),\n",
    "- a string,\n",
    "- again an Entity,\n",
    "- or a list of such values.\n",
    "\n",
    "The JSON-LD format can be used to construct an Entity. Since Entities can be nested inside other Entities we are referring to the resulting construct as an Entity tree. Below you see an example of a flow in a JSON-LD format:\n",
    "\n",
    "{ <br />\n",
    "  $\\;$ \"@type\": \"Flow\", <br />\n",
    "  $\\;$\"@id\": \"4a40cb39-e306-3649-b6da-ca061e384e23\", <br />\n",
    "  $\\;$\"name\": \"electricity, high voltage, at grid\", <br />\n",
    "  $\\;$\"category\": \"electricity/supply mix\", <br />\n",
    "  $\\;$\"flowType\": \"PRODUCT_FLOW\", <br />\n",
    "  $\\;$\"location\": { <br />\n",
    "  $\\;\\;$  \"@type\": \"Location\", <br />\n",
    "  $\\;\\;$  \"@id\": \"28840420-4e3d-3522-a930-8317344a285d\", <br />\n",
    "  $\\;\\;$  \"name\": \"Poland\" <br />\n",
    "  $\\;\\;$}, <br />\n",
    "  $\\;$\"flowProperties\": [ <br />\n",
    "  $\\;\\;$   { <br />\n",
    "  $\\;\\;\\;$    \"@type\": \"FlowPropertyFactor\", <br />\n",
    "  $\\;\\;\\;$    \"isRefFlowProperty\": true, <br />\n",
    "  $\\;\\;\\;$    \"conversionFactor\": 1.0, <br />\n",
    "  $\\;\\;\\;$    \"flowProperty\": { <br />\n",
    "  $\\;\\;\\;\\;$      \"@type\": \"FlowProperty\", <br />\n",
    "  $\\;\\;\\;\\;$      \"@id\": \"f6811440-ee37-11de-8a39-0800200c9a66\", <br />\n",
    "  $\\;\\;\\;\\;$      \"name\": \"Energy\" <br />\n",
    "  $\\;\\;\\;$    } <br />\n",
    "  $\\;\\;$  } <br />\n",
    "  $\\;$] <br />\n",
    "} <br />\n",
    "\n",
    "As you can see in the example, an Entity is everything within the curly braces. Each line shows a key-value pair (field). The key here is a fixed term. You cannot choose any key name when constructing a field, it needs to be of the set of key names relevant for that particular type of Entity. The value of the field on the other hand can be any value as long as it complies with the datatype dedicated to the field (so string, number, Boolean etc.). Some fields in the example, such as 'location', take other Entities as their value. Note that the field 'FlowProperties' does __not__ take another Entity as a value but a list of Entities. You can see that it is taking a list by the brackets that surround the Entity value in the example. \n",
    "\n",
    "The type RefEntity (also known as 'descriptor') describes entities that can be referenced by a unique ID, stored in the field @id. Another data set can point to such a RefEntity via a Ref that contains that @id. With this, we do not need to repeat the information when the same data set is referenced multiple times (e.g. when the same flow is used in different processes).\n",
    "\n",
    "A RootEntity describes a stand-alone data set, like a Flow or Process. These data set types form the root of an Entity tree. All other entity types are always part of such an Entity tree. The RootEntity is declared in the field '@type' as can be seen in the example. __Please be careful__ when dealing with Units, as these do not form stand-alone RootEntities but are always part of the UnitGroup RootEntity. However, Unit is a RefEntity since it can be referenced from other Entities such as exchanges for example.\n",
    "\n",
    "To find out what fields are within each RootEntity please refer to the openLCA schema documentation under the following link: http://greendelta.github.io/olca-schema/"
   ]
  },
  {
   "cell_type": "markdown",
   "id": "6c476945-3e3b-4221-9cf9-40f59e4498fc",
   "metadata": {},
   "source": [
    "### Creating and working with openLCA Entities using Python with the olca-schema module"
   ]
  },
  {
   "cell_type": "markdown",
   "id": "2e420631-5614-463f-aa18-b80d633421c9",
   "metadata": {},
   "source": [
    "If you are using Python, working with the openLCA schema can be very simple through the use of the olca-schema module. For this you first need to import the olca-schema module. Run the code cell below to do so (click on the code cell below and press Ctrl + Enter)."
   ]
  },
  {
   "cell_type": "code",
   "execution_count": null,
   "id": "9f2826c5-7082-4037-92bc-d2a1f674e4f1",
   "metadata": {
    "tags": []
   },
   "outputs": [],
   "source": [
    "import olca_schema as schema"
   ]
  },
  {
   "cell_type": "markdown",
   "id": "5ae5f09f-aeac-41a0-88cd-2941b7186c83",
   "metadata": {},
   "source": [
    "Now the olca-schema module has been imported and is ready to be used in your code. You can explore and see what Entities are available to you by using Python's built-in dir() function. Run the code cell below to try it out. Please note, that in a Jupyter Notebook, if the last object in a code cell is not asigned to a variable, it will be printed below."
   ]
  },
  {
   "cell_type": "code",
   "execution_count": null,
   "id": "69fd9c9a-3453-46cd-b769-c0828324be31",
   "metadata": {
    "tags": []
   },
   "outputs": [],
   "source": [
    "dir(schema)"
   ]
  },
  {
   "cell_type": "markdown",
   "id": "00cd1025-236e-489f-a5d2-8f55b904dad3",
   "metadata": {},
   "source": [
    "All the names in this list that start with a capital letter are the types of Entities you can construct objects with. Please ignore the methods with the double underscores.<br/> \n",
    "Let us create our first Entity object. Let us create an Actor. Run the code cell below:"
   ]
  },
  {
   "cell_type": "code",
   "execution_count": null,
   "id": "f60a5bdf-b950-403f-a8ec-f33ca2c754dd",
   "metadata": {
    "tags": []
   },
   "outputs": [],
   "source": [
    "actor = schema.Actor()\n",
    "actor"
   ]
  },
  {
   "cell_type": "markdown",
   "id": "b6e22cfb-cb5e-4711-ab27-a6b8c87d4ea7",
   "metadata": {},
   "source": [
    "This is it. You have now successfully created your first Entity object in Python. Great job! The output that you see above can also be represented in the JSON-LD format which we encountered previously. However, in Python the JSON format is refered to as a dictionary and has some slight differences to JSON (e.g. in Python Boolean values are written with a capital first letter, whereas in JSON these values start with a lower case letter). Therefore, if you want to represent the Entity object of the actor we created above in a JSON format, you will need to call the .to_dict() method. Run the code cell below to see our actor represented in a JSON/dictionary format."
   ]
  },
  {
   "cell_type": "code",
   "execution_count": null,
   "id": "1b095488-4989-4a76-a1f9-9ce1e46f3cbf",
   "metadata": {
    "editable": true,
    "slideshow": {
     "slide_type": ""
    },
    "tags": []
   },
   "outputs": [],
   "source": [
    "actor.to_dict()"
   ]
  },
  {
   "cell_type": "markdown",
   "id": "a9187f26-fbe6-48cc-b564-61df37d772a5",
   "metadata": {},
   "source": [
    "As you can see, an id, timestamp and version number were automatically created when we created the Entity. However, it is still missing a lot of information such as name and description. What else might be missing here? Well we can find that out by again calling Python's built-in dir() function. Run the code cell below to do so."
   ]
  },
  {
   "cell_type": "code",
   "execution_count": null,
   "id": "9b2ec2ee-9b58-4ede-b886-49aed35fdf7a",
   "metadata": {
    "tags": []
   },
   "outputs": [],
   "source": [
    "dir(actor)"
   ]
  },
  {
   "cell_type": "markdown",
   "id": "555a4f56-68e5-4688-9f09-0e5da4184278",
   "metadata": {},
   "source": [
    "As you can see in the output, there are many more fields that need to be filled in than just name and description (only the list elements without the double underscores or the ones that do not start with 'to_' are relevant for us). We are also missing an address, email, website, telephone number etc. It is not neccessary to have information in all fields of an Entity object, however, let us add some information to our actor. Run the code cell below to give our actor a name, description, email and telephone number."
   ]
  },
  {
   "cell_type": "code",
   "execution_count": null,
   "id": "8d4995b3-8663-4c25-8ac9-8dc3d6c6bc87",
   "metadata": {
    "tags": []
   },
   "outputs": [],
   "source": [
    "actor.name = 'John'\n",
    "actor.description = 'This is John. He loves openLCA.'\n",
    "actor.telephone = '123-456-789'\n",
    "actor.to_dict()"
   ]
  },
  {
   "cell_type": "markdown",
   "id": "1d20fe63-dc5e-4e4c-a7b6-3b088a80a824",
   "metadata": {},
   "source": [
    "___Now it is your turn. Go to the exercises Jupyter Notebook and do Exercise 1.___"
   ]
  },
  {
   "cell_type": "markdown",
   "id": "822f8e90-6ece-44e8-b962-12fe00091c60",
   "metadata": {},
   "source": [
    "Ok great, welcome back! I hope you had fun with your first exercise. You now know the basics of navigating through the olca-schema module and creating Entity objects. Let us now create all the necessary Entitity objects to construct a process. Here we will be creating a process for rice flour production. It will have two exchanges. Rice will be the input exchange and rice flour will be the output and reference exchange.\n",
    "\n",
    "Let us start by creating a unit. A good way to quantify rice and rice flour is by weight. Therefore we will start by creating a Unit Entity object for kilograms, where we will set the name to 'kg' and the description to 'kilogram'. We will also make this the reference unit within the unit group we are going to create later. Run the code cell below to create the unit."
   ]
  },
  {
   "cell_type": "code",
   "execution_count": null,
   "id": "0234a4cf-3d95-4cb2-93a5-3cd7f8b99480",
   "metadata": {
    "tags": []
   },
   "outputs": [],
   "source": [
    "kg_unit = schema.Unit()\n",
    "kg_unit.name = 'kg'\n",
    "kg_unit.description = 'kilogram'\n",
    "kg_unit.conversion_factor = 1\n",
    "kg_unit.is_ref_unit = True\n",
    "kg_unit.to_dict()"
   ]
  },
  {
   "cell_type": "markdown",
   "id": "15197331-2637-44bc-85c2-a3530f252e90",
   "metadata": {},
   "source": [
    "Now we have a unit for kilograms, great! Let us create a UnitGroup Entity object that holds the unit kilograms. Let us call it 'Units of Mass'. To associate the unit we just created with this unit group, we will need to add it under _unit_group.units_ as a list item. Run the code cell below to create the unit group."
   ]
  },
  {
   "cell_type": "code",
   "execution_count": null,
   "id": "fccb74d7-460a-4dd3-b056-969ec607a703",
   "metadata": {},
   "outputs": [],
   "source": [
    "mass_unit_group = schema.UnitGroup()\n",
    "mass_unit_group.name = 'Units of Mass'\n",
    "mass_unit_group.units = [kg_unit]\n",
    "mass_unit_group.to_dict()"
   ]
  },
  {
   "cell_type": "markdown",
   "id": "5677898d-0bbf-41b2-80a6-75417aede20c",
   "metadata": {},
   "source": [
    "Next we will create a flow property. We need to create flow properties to be able to convert between units. Here we are dealing with weights. Therefore, let's call this flow property 'Mass' and associate it with the unit group we just created. We will also define its flow property type to be a physical quantity. Run the code cell below to create the flow property."
   ]
  },
  {
   "cell_type": "code",
   "execution_count": null,
   "id": "b4290149-721c-4d97-89ce-3ee04fb055bb",
   "metadata": {},
   "outputs": [],
   "source": [
    "mass_flow_property = schema.FlowProperty()\n",
    "mass_flow_property.name = 'Mass'\n",
    "mass_flow_property.unit_group = mass_unit_group\n",
    "mass_flow_property.flowPropertyType = schema.FlowPropertyType.PHYSICAL_QUANTITY\n",
    "mass_flow_property.to_dict()"
   ]
  },
  {
   "cell_type": "markdown",
   "id": "6abcc283-3e32-435b-853a-6f0e6cf7cd6d",
   "metadata": {},
   "source": [
    "To convert between units we will not only need the flow property but also the flow property factor which associates a flow property with a flow. We will need to create two seperate FlowPropertyFactor Entity objects, one for the flow rice and one for the flow rice flour. Both of these flows we will create later. Run the code cell below to create both flow property factors. Only the rice flour flow property factor will be printed when you run the code cell."
   ]
  },
  {
   "cell_type": "code",
   "execution_count": null,
   "id": "f05c3456-1ba0-4a1e-9d7f-260e4347b20a",
   "metadata": {},
   "outputs": [],
   "source": [
    "rice_flow_property_factor = schema.FlowPropertyFactor()\n",
    "rice_flow_property_factor.is_ref_flow_property = True\n",
    "rice_flow_property_factor.conversion_factor = 1\n",
    "rice_flow_property_factor.flow_property = mass_flow_property\n",
    "\n",
    "flour_flow_property_factor = schema.FlowPropertyFactor()\n",
    "flour_flow_property_factor.is_ref_flow_property = True\n",
    "flour_flow_property_factor.conversion_factor = 1\n",
    "flour_flow_property_factor.flow_property = mass_flow_property\n",
    "flour_flow_property_factor.to_dict()"
   ]
  },
  {
   "cell_type": "markdown",
   "id": "35f8b878-13e5-47b0-86f0-5cae0b34af02",
   "metadata": {},
   "source": [
    "We are now ready to create the respective Flow Entity objects for rice and rice flour. We will make both of these product flows, associate them with their respective flow property factors (in a list) and give them the respective names 'Rice' and 'Rice Flour'. Run the code cell below to create both flows. Only the rice flour flow will be printed when you run the code cell."
   ]
  },
  {
   "cell_type": "code",
   "execution_count": null,
   "id": "f0646937-339d-4dc1-b93e-629c755affd6",
   "metadata": {},
   "outputs": [],
   "source": [
    "rice_flow = schema.Flow()\n",
    "rice_flow.name = 'Rice'\n",
    "rice_flow.flow_properties = [rice_flow_property_factor]\n",
    "rice_flow.flow_type = schema.FlowType.PRODUCT_FLOW\n",
    "\n",
    "flour_flow = schema.Flow()\n",
    "flour_flow.name = 'Rice Flour'\n",
    "flour_flow.flow_properties = [flour_flow_property_factor]\n",
    "flour_flow.flow_type = schema.FlowType.PRODUCT_FLOW\n",
    "flour_flow.to_dict()"
   ]
  },
  {
   "cell_type": "markdown",
   "id": "7fd6a67f-2b80-4d51-a562-1f6926901e38",
   "metadata": {},
   "source": [
    "Now that we have a flow for rice and rice flour, a flow property for mass and a unit for kilograms, we can create exchanges. We will create an input exchange for rice and an output exchange for rice flour. We will make the rice flour exchange the reference exchange. Both will use the unit kilograms and the flow property mass. Run the code cell below to create both exchanges. Only the rice flour exchange will be printed when you run the code cell."
   ]
  },
  {
   "cell_type": "code",
   "execution_count": null,
   "id": "af5fe8e4-d507-44c8-9528-bf3884aac0d6",
   "metadata": {},
   "outputs": [],
   "source": [
    "rice_exchange = schema.Exchange()\n",
    "rice_exchange.is_input = True\n",
    "rice_exchange.flow = rice_flow\n",
    "rice_exchange.flow_property = mass_flow_property\n",
    "rice_exchange.unit = kg_unit\n",
    "rice_exchange.amount = 1\n",
    "rice_exchange.is_quantitative_reference = False\n",
    "\n",
    "flour_exchange = schema.Exchange()\n",
    "flour_exchange.is_input = False\n",
    "flour_exchange.flow = flour_flow\n",
    "flour_exchange.flow_property = mass_flow_property\n",
    "flour_exchange.unit = kg_unit\n",
    "flour_exchange.amount = 1\n",
    "flour_exchange.is_quantitative_reference = True\n",
    "flour_exchange.to_dict()"
   ]
  },
  {
   "cell_type": "markdown",
   "id": "58224005-b858-47f1-9db2-331c5fa732c4",
   "metadata": {},
   "source": [
    "Lastly, let us create a unit process with the name 'Rice Flour Production' and the description 'This process represents the production of rice flour.' Using the two exchanges we have just created. Run the code cell below to construct this process."
   ]
  },
  {
   "cell_type": "code",
   "execution_count": null,
   "id": "17c24542-02c7-47a9-9a1e-8aeeeecfbde7",
   "metadata": {},
   "outputs": [],
   "source": [
    "process = schema.Process()\n",
    "process.name = 'Rice Flour Production'\n",
    "process.description = 'This process represents the production of rice flour.'\n",
    "process.exchanges = [rice_exchange, flour_exchange]\n",
    "process.process_type = schema.ProcessType.UNIT_PROCESS\n",
    "process.to_dict()"
   ]
  },
  {
   "cell_type": "markdown",
   "id": "fecac173-e158-454a-b05c-b49dae391dba",
   "metadata": {},
   "source": [
    "___Now it is your turn. Go to the exercises Jupyter Notebook and do Exercise 2.___"
   ]
  },
  {
   "cell_type": "markdown",
   "id": "3b7ee847-e400-43a2-95c9-a4e15eeec09e",
   "metadata": {},
   "source": [
    "Welcome back from your second exercise. Now you know how to construct a process from scratch using the olca-schema module. Congratulations! Nevertheless, up to now we have not interacted with openLCA at all! If you want to get and insert Entity objects from and to a database, create product systems or run impact calculations you need to interact with openLCA. This is where the olca-ipc module comes in. It lets us communicate with our local openLCA application via an ipc server. Let's move on to the next section to find out how to use it. "
   ]
  },
  {
   "cell_type": "markdown",
   "id": "5fd80a15-2cff-4fa1-8660-39a89f6a07af",
   "metadata": {},
   "source": [
    "## Working with the olca-ipc module"
   ]
  },
  {
   "cell_type": "markdown",
   "id": "15dc2c76-0dcd-435b-9d4e-4b4177d88521",
   "metadata": {
    "tags": []
   },
   "source": [
    "### Starting the ipc-server "
   ]
  },
  {
   "cell_type": "markdown",
   "id": "e76763de-884f-4bd2-bbae-fe44e52cc548",
   "metadata": {},
   "source": [
    "Before you start running any further code cells, make sure you have openLCA2 installed and opened (__please use the latest version i.e. from 10.02.2023 or younger!!!__). Once you have done so, open the database that you would like to use. Here we will use the database '__regionalized_lca_training_10__'.\n",
    "\n",
    "Next, you need to start the ipc-server in openLCA. You do this by going to Tools -> Developer Tools -> IPC Server. This will open a dialog window in which you can specify the port with which you would like to run the ipc-server. Port 8080 is the default port and I would suggest you just leave it at this port (unless you are already using it for another application). Now start the ipc-server by pressing the green play button on the right side of the dialog window. Let this simply run in the background while you execute your Python code.\n",
    "\n",
    "If you want to stop the ipc-server again, simply press the same button again which should have started showing a red square when you initiated the ipc-server.\n",
    "\n",
    "__PLEASE NOTE__ that when you close a database while the dialog window is still running the ipc server is in fact down even if it shows that it is still running. Thus, if you close and reopen a database while keeping the ipc dialog window open, simply stop and re-start the ipc server with the play button."
   ]
  },
  {
   "cell_type": "markdown",
   "id": "f688249b-f09e-4e30-85c9-282e3219c658",
   "metadata": {},
   "source": [
    "### Importing the olca-ipc modules and initiating the client"
   ]
  },
  {
   "cell_type": "markdown",
   "id": "b55cdac8-6ad9-4177-aef1-26f1b1aadbfc",
   "metadata": {},
   "source": [
    "The code cell below imports the olca-ipc module (it also imports the olca-schema module in case you did not run the code cells above). Here, we are also initiating the client on port 8080 which will allow us to communicate with the ipc-server that you are running in the background. This only works of course, if you are also running the ipc server on port 8080. If you are running it on a different port number, you will need to change the port number in the code cell below where you initiate the client. Generally, the olca-ipc module allows you to communicate and access the database in openLCA as well as run impact calculation etc. The olca-schema module on the other hand allows you to work with the data structure which is native to an openLCA database. Run the code cell below to import the olca-ipc module and initiate the client."
   ]
  },
  {
   "cell_type": "code",
   "execution_count": null,
   "id": "71674b74-fe2e-4c68-b67a-b7c859d1cb4a",
   "metadata": {
    "tags": []
   },
   "outputs": [],
   "source": [
    "import olca_ipc as ipc\n",
    "import olca_schema as schema\n",
    "\n",
    "client = ipc.Client(8080)\n",
    "\n",
    "client"
   ]
  },
  {
   "cell_type": "markdown",
   "id": "b9645a8f-0c55-4fe4-875b-de5f16c35328",
   "metadata": {},
   "source": [
    "### Accessing database contents and running calculations using the olca-ipc client"
   ]
  },
  {
   "cell_type": "markdown",
   "id": "257e007e-c64d-4d17-94ce-8be115f3c7e3",
   "metadata": {},
   "source": [
    "For all proceeding demonstrations this Jupyter Notebook assumes you have the database '__regionalized_lca_training_10__' opened in openLCA2.0 (version from 10.02.2023 or younger) while running the ipc-server. Thus, all uuid's used in the proceeding code cells refer to objects in that database."
   ]
  },
  {
   "cell_type": "markdown",
   "id": "70e86104-8167-47c9-981e-99df9396ee92",
   "metadata": {},
   "source": [
    "#### client function - get_descriptors"
   ]
  },
  {
   "cell_type": "markdown",
   "id": "8cb95987-7d1a-4fff-9f0d-7ccdb9aad089",
   "metadata": {},
   "source": [
    "This function will return all the Entry objects of the provided entry type (Process, Flow, Exchange, FlowProperty etc.) as a descriptor/reference within a list. A descriptor/reference contains less information and is for exploratory and reference purposes. Run the code cell below to get a list of descriptors for all the flow properties in the database. Only the names of these descriptors will be printed by the code cell below. "
   ]
  },
  {
   "cell_type": "code",
   "execution_count": null,
   "id": "2e35a412-c9bb-4b78-a9a0-dbb129835437",
   "metadata": {
    "tags": []
   },
   "outputs": [],
   "source": [
    "flow_property_descriptors = client.get_descriptors(schema.FlowProperty)\n",
    "for descriptor in flow_property_descriptors:\n",
    "    print(descriptor.name)"
   ]
  },
  {
   "cell_type": "markdown",
   "id": "39b59769-c087-4140-9a32-2949c71279c6",
   "metadata": {},
   "source": [
    "#### client function - get_descriptor"
   ]
  },
  {
   "cell_type": "markdown",
   "id": "6007e14e-75df-4e8d-871a-30432b2065c2",
   "metadata": {},
   "source": [
    "Unlike the function _get_descriptors()_, this function will return only a single descriptor of the entry type and id/name you provided as an argument. If you want to search for a name, you will need to specify the parameter 'name' in the function. Run the code cell below to get the descriptor for the flow property with the name 'Mass'."
   ]
  },
  {
   "cell_type": "code",
   "execution_count": null,
   "id": "ad3ebf98-d7c5-4598-93d9-81de68d69c73",
   "metadata": {
    "tags": []
   },
   "outputs": [],
   "source": [
    "ref_obj = client.get_descriptor(schema.FlowProperty, name=\"Mass\")\n",
    "ref_obj"
   ]
  },
  {
   "cell_type": "markdown",
   "id": "8f4ce251-bb7f-4d53-aaac-cf3bb9deecc2",
   "metadata": {},
   "source": [
    "#### client function - get_all"
   ]
  },
  {
   "cell_type": "markdown",
   "id": "bf5c8ec7-d2d2-42b0-beb7-9afeb14d8e25",
   "metadata": {},
   "source": [
    "This function will return all database objects of the provided Entry type that can be found inside the database as a list. These are __not__ reference objects and thus contain __all__ information of the object. Run the code cell below to get all the names of all the unit groups inside the database. Only the name of the Entities will be printed with the code cell below."
   ]
  },
  {
   "cell_type": "code",
   "execution_count": null,
   "id": "cae638ac-fee6-43f2-a869-8a80ec4780b7",
   "metadata": {
    "tags": []
   },
   "outputs": [],
   "source": [
    "unit_group_obj_list = client.get_all(schema.UnitGroup)\n",
    "for unit_group in unit_group_obj_list:\n",
    "    print(unit_group.name)"
   ]
  },
  {
   "cell_type": "markdown",
   "id": "b7b0894e-1498-4210-af46-5b5496fcdd32",
   "metadata": {},
   "source": [
    "#### client function - get"
   ]
  },
  {
   "cell_type": "markdown",
   "id": "63f6fca7-b775-46a4-a017-fde5d71265f4",
   "metadata": {},
   "source": [
    "This function will return a specific database object whose Entry type and uuid you need to provide as arguments, respectively. Unlike the descriptors, this is not an exploratory/reference object and therefore contains __all__ information associated with the Entity object. Run the code cell below to get the Process Entity of the process 'electricity, high voltage, production mix | electricity, high voltage | cut-off, S'."
   ]
  },
  {
   "cell_type": "code",
   "execution_count": null,
   "id": "7efeb6e0-90da-49e6-bad7-28a19257fad3",
   "metadata": {
    "tags": []
   },
   "outputs": [],
   "source": [
    "process_obj = client.get(schema.Process, '72a1a214-e4a6-3c8c-9c0f-79ba66d62d4a') \n",
    "process_obj.name"
   ]
  },
  {
   "cell_type": "markdown",
   "id": "d37a9114-cf2a-44f7-88ae-197f75161525",
   "metadata": {
    "editable": true,
    "slideshow": {
     "slide_type": ""
    },
    "tags": []
   },
   "source": [
    "You can also use the same function to access the database object using its name. For this, you need to specify the parameter 'name' and provide the name as the argument to that parameter. Be careful when using this function, as this function may not access the object you want if the name you provided exists more than once inside the database. This can be seen in the examples here. In the cell above, we called a process with the name 'electricity, high voltage, production mix | electricity, high voltage | cut-off, S'. But when we try to access the same object by name, we get a different process as can be seen by the differing uuids."
   ]
  },
  {
   "cell_type": "code",
   "execution_count": null,
   "id": "c0d97a7f-91f7-42ad-b188-39039f55b30b",
   "metadata": {
    "tags": []
   },
   "outputs": [],
   "source": [
    "process_obj = client.get(schema.Process, name='electricity, high voltage, production mix | electricity, high voltage | cut-off, S')\n",
    "process_obj.id"
   ]
  },
  {
   "cell_type": "markdown",
   "id": "59628da9-c362-4aef-af4b-c81b89bad30d",
   "metadata": {},
   "source": [
    "#### client function - get_providers"
   ]
  },
  {
   "cell_type": "markdown",
   "id": "6f566e18-94cb-4187-bcf6-5e8a40237acd",
   "metadata": {},
   "source": [
    "This function will return a list containing all the providers of all the flows in the database. No arguments need to be provided for this function to work. The list contains descriptors not whole Entity objects. Run the code cell below to get the first five providers of the provider list."
   ]
  },
  {
   "cell_type": "code",
   "execution_count": null,
   "id": "a57cf33e-59c6-42f9-9015-40fb6cc01200",
   "metadata": {
    "tags": []
   },
   "outputs": [],
   "source": [
    "provider_list = client.get_providers()\n",
    "for provider in provider_list[:5]:\n",
    "    print(provider)"
   ]
  },
  {
   "cell_type": "markdown",
   "id": "79847cb6-ae9c-417c-9b59-ce7211fc0376",
   "metadata": {},
   "source": [
    "If you wish to return the providers for one specific flow only, you can provide a descriptor/reference object of that flow as an argument to the function under the parameter 'flow'. This will return a list of all the providers for that particular flow. Run the code cell below to get all the providers for the product flow 'electricity, high voltage' ('66c93e71-f32b-4591-901c-55395db5c132')."
   ]
  },
  {
   "cell_type": "code",
   "execution_count": null,
   "id": "b7df8003-399f-4c5e-b6ce-654ace29e7d6",
   "metadata": {
    "editable": true,
    "slideshow": {
     "slide_type": ""
    },
    "tags": []
   },
   "outputs": [],
   "source": [
    "flow_ref = client.get_descriptor(schema.Flow, '66c93e71-f32b-4591-901c-55395db5c132')\n",
    "client.get_providers(flow=flow_ref)"
   ]
  },
  {
   "cell_type": "markdown",
   "id": "74d35c22-34bb-4283-af2b-264f41095d5a",
   "metadata": {},
   "source": [
    "___Now it is your turn. Go to the exercises Jupyter Notebook and do Exercise 3.___"
   ]
  },
  {
   "cell_type": "markdown",
   "id": "67e7dd10-df2e-4d1d-a73e-b149c060aca5",
   "metadata": {},
   "source": [
    "Welcome back! I hope you had fun with this excercise. Now you understand how to retrieve objects from an openLCA database. This is important for you to understand since you will not always need to construct all schema objects yourself from scratch but instead you would get these objects from the database. For example in the rice flour production process from before, we created a unit for kilograms and a unit group for mass. However, most databases already have these objects defined. Thus, rather than creating these from scratch, in most use cases you will propably want to get these objects from the database with the client methods listed above. This is important particularly because if you were to create the same unit twice (e.g. two units for kilogram), they would not be treated as the same object in openLCA because of which you may run into issues later on. \n",
    "\n",
    "When calling these object from a database, unless you wish to get specific information from the object, it is preferable to get the descriptors (i.e. the RefEntities) as these contain minimum information  about the object and therefore require less memory usage. "
   ]
  },
  {
   "cell_type": "markdown",
   "id": "fea0eb6a-b2a6-4d45-85cb-224afb85224b",
   "metadata": {},
   "source": [
    "#### client function - put"
   ]
  },
  {
   "cell_type": "markdown",
   "id": "0d05cb33-d087-463a-9f8b-1c186c0f2d10",
   "metadata": {},
   "source": [
    "This function can insert or update objects within the openLCA database you are connected to. __If you wish to view the changes that were made to the database, you must close the database in openLCA first. However, this will close the ipc server as well. Thus, if you want to continue to work with the database using the ipc server, you need to reactivate it.__ Run the code cell below to create a Source Entity object called 'Inter-process communication with openLCA' and insert it into the database."
   ]
  },
  {
   "cell_type": "code",
   "execution_count": null,
   "id": "c29ad7ed-370a-4f26-ba52-079704a7c609",
   "metadata": {
    "editable": true,
    "slideshow": {
     "slide_type": ""
    },
    "tags": []
   },
   "outputs": [],
   "source": [
    "source_obj = schema.Source(name=\"Inter-process communication with openLCA\")\n",
    "client.put(source_obj)"
   ]
  },
  {
   "cell_type": "markdown",
   "id": "7f3b4c10-e22f-4882-abab-be0e9e223e4a",
   "metadata": {
    "editable": true,
    "slideshow": {
     "slide_type": ""
    },
    "tags": []
   },
   "source": [
    "___Now it is your turn. Go to the exercises Jupyter Notebook and do Exercise 4.___"
   ]
  },
  {
   "cell_type": "markdown",
   "id": "08097e49-3f25-461e-be47-7239525ec75a",
   "metadata": {},
   "source": [
    "Welcome back! This excercise was important for you to understand, as the order in which you insert objects into a database matters a lot! In openLCA databases everything builds on top of each other. So you cannot construct something if the database does not know about the existance of the object yet. __It is therefore important that you insert information in the same order that you would construct them.__ Starting with the simplest one, so the one that does not build on anything else (in the rice flour production example this was the unit) and continuing from there. Nevertheless, remember that when you insert this information into the database, only Root Entity objects must be inserted. So you may start constructing with units, but since the 'unit' does not form a Root Entity, but instead is contained within the Root Entity 'unit group', you will only need to insert the unit group into the database when using the client method 'put'. This logic also applies to other object, like in the case of the 'Exchange' which is contained within the Root Enity 'Process' or 'Flow Property Factor' which is contained within the Root Entity 'Flow'. "
   ]
  },
  {
   "cell_type": "markdown",
   "id": "ac90c143-6707-4cae-9c0c-ab906c7258f2",
   "metadata": {},
   "source": [
    "#### client function - delete"
   ]
  },
  {
   "cell_type": "markdown",
   "id": "2d2a9cf4-69c9-44a8-b6a7-49cd7e40c8e7",
   "metadata": {},
   "source": [
    "This function will delete an object in openLCA whose descriptor you provide as a parameter. Run the code cell below to get the descriptor for the Source Entity object you just created and delete it from the database."
   ]
  },
  {
   "cell_type": "code",
   "execution_count": null,
   "id": "51f9c839-9097-45fc-bf93-234489b2aa08",
   "metadata": {
    "tags": []
   },
   "outputs": [],
   "source": [
    "source_obj = client.get_descriptor(schema.Source, name=\"Inter-process communication with openLCA\")\n",
    "client.delete(source_obj)"
   ]
  },
  {
   "cell_type": "markdown",
   "id": "6dfc271b-c394-49ac-a4dd-eb5dc976078a",
   "metadata": {
    "editable": true,
    "slideshow": {
     "slide_type": ""
    },
    "tags": []
   },
   "source": [
    "#### client funtion - create_product_system"
   ]
  },
  {
   "cell_type": "markdown",
   "id": "2bb196b6-fd4f-442b-a869-502fe58a6f7c",
   "metadata": {},
   "source": [
    "This function will create a product system object from a process descriptor/reference you provided as the first argument. For this function to work, you will also need to create a linking configuration object and pass it as the second parameter of the _create_product_system_ function. Run the code cell below to create a product system for 'electricity, high voltage, production mix | electricity, high voltage | cut-off, S' ('72a1a214-e4a6-3c8c-9c0f-79ba66d62d4a'). __NOTE__ that this function automatically inserts a product system into openLCA when you run this function."
   ]
  },
  {
   "cell_type": "code",
   "execution_count": null,
   "id": "b4382515-8c30-45df-9025-07eb6bb78c3c",
   "metadata": {
    "editable": true,
    "slideshow": {
     "slide_type": ""
    },
    "tags": []
   },
   "outputs": [],
   "source": [
    "process_ref = client.get_descriptor(schema.Process, '72a1a214-e4a6-3c8c-9c0f-79ba66d62d4a')\n",
    "config = schema.LinkingConfig(prefer_unit_processes=True, provider_linking=schema.ProviderLinking.PREFER_DEFAULTS)\n",
    "product_system_ref = client.create_product_system(process_ref, config)\n",
    "product_system_ref"
   ]
  },
  {
   "cell_type": "markdown",
   "id": "624c7513-d3f1-4558-b612-8d973d1b7c49",
   "metadata": {},
   "source": [
    "#### client function - calculate"
   ]
  },
  {
   "cell_type": "markdown",
   "id": "4c703733-7fe5-4606-9372-d3807008c7ba",
   "metadata": {},
   "source": [
    "This function will run an impact calculation for the product system you provided using the impact method you provided as a reference object. __The calculation is not asynchronous. Because of this, it is important that you use the__ ___wait_until_ready' function___ __on the results object, else you will get a 500 error because the result will not be ready yet!!!__ Run the code cell below to make an impact calculation using the 'AWARE' impact method for the product system we created in the previous code cell. "
   ]
  },
  {
   "cell_type": "code",
   "execution_count": null,
   "id": "4ffd9aa8-e7ad-42bb-a461-c701915d77f0",
   "metadata": {
    "editable": true,
    "slideshow": {
     "slide_type": ""
    },
    "tags": []
   },
   "outputs": [],
   "source": [
    "impact_method_ref = client.get_descriptor(schema.ImpactMethod, 'e4d1d9b6-20d1-4d6b-8492-877752479894')\n",
    "\n",
    "setup = schema.CalculationSetup(target=product_system_ref, impact_method=impact_method_ref)\n",
    "result = client.calculate(setup)\n",
    "\n",
    "state = result.wait_until_ready()\n",
    "print(f\"result id: {state.id}\")"
   ]
  },
  {
   "cell_type": "markdown",
   "id": "17d76590-465b-4c6a-a3ef-ccc4bf7ce23e",
   "metadata": {
    "editable": true,
    "slideshow": {
     "slide_type": ""
    },
    "tags": []
   },
   "source": [
    "You can iterate over the results object to get the impacts using the method _results.get_total_impacts()_. Run the code cell below to list the impacts calculated (here the impact method only holds one impact category)."
   ]
  },
  {
   "cell_type": "code",
   "execution_count": null,
   "id": "dde05550-ba2b-4d92-93ab-a9506e29616d",
   "metadata": {
    "editable": true,
    "slideshow": {
     "slide_type": ""
    },
    "tags": []
   },
   "outputs": [],
   "source": [
    "for impact in result.get_total_impacts():\n",
    "    print(f\"{impact.impact_category.name}: {impact.amount} {impact.impact_category.ref_unit}\")"
   ]
  },
  {
   "cell_type": "markdown",
   "id": "5da2da76-d450-4871-91aa-b9e93b57dace",
   "metadata": {
    "editable": true,
    "slideshow": {
     "slide_type": ""
    },
    "tags": []
   },
   "source": [
    "___Now it is your turn. Go to the exercises Jupyter Notebook and do Exercise 5.___"
   ]
  },
  {
   "cell_type": "markdown",
   "id": "05dc0a3e-14ec-40db-99dd-e7d7b78b7148",
   "metadata": {},
   "source": [
    "Welcome back! Now you understand how to run an impact calculation using Python. Congratulation! Of course most of the time you are not only interested in the total impacts. Sometimes you would like to get other information such as the life cycle inventory. All the information you would normally find in the results section of openLCA, you will also find in the results object. The methods available for you to get this information you can either explore using the _dir()_ function or by visiting the documentation under: https://greendelta.github.io/openLCA-ApiDoc/ipc/results/results.html"
   ]
  },
  {
   "cell_type": "markdown",
   "id": "799577be-02e4-4f7c-850e-bf2b08ec0d9a",
   "metadata": {},
   "source": [
    "</br>\n",
    "This concludes this Demonstration Jupyter Notebook for the Python Advanced openLCA Training.\n",
    "</br>\n",
    "</br>\n",
    "<b>Thank you very much for your attention and participation!</b>"
   ]
  },
  {
   "cell_type": "markdown",
   "id": "c6a98f45-a5dd-42f3-a53c-b9b106899ab2",
   "metadata": {
    "editable": true,
    "slideshow": {
     "slide_type": ""
    },
    "tags": []
   },
   "source": [
    "</br>\n",
    "</br>"
   ]
  },
  {
   "cell_type": "markdown",
   "id": "cca549fb-1c5b-4d81-90b1-dc9f2b5a27a4",
   "metadata": {},
   "source": [
    "### __Author:__ Raphael Sebastian Zimmermann\n",
    "### __Company Address:__ GreenDelta GmbH, Alt-Moabit 130, 10557 Berlin\n",
    "### __Date:__ 12.04.2024"
   ]
  },
  {
   "cell_type": "code",
   "execution_count": null,
   "id": "fc08b1dc-8594-4594-97d2-9039ddddd855",
   "metadata": {},
   "outputs": [],
   "source": []
  }
 ],
 "metadata": {
  "kernelspec": {
   "display_name": "Python 3 (ipykernel)",
   "language": "python",
   "name": "python3"
  },
  "language_info": {
   "codemirror_mode": {
    "name": "ipython",
    "version": 3
   },
   "file_extension": ".py",
   "mimetype": "text/x-python",
   "name": "python",
   "nbconvert_exporter": "python",
   "pygments_lexer": "ipython3",
   "version": "3.11.9"
  }
 },
 "nbformat": 4,
 "nbformat_minor": 5
}
