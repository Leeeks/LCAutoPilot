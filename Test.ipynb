{
 "cells": [
  {
   "cell_type": "code",
   "execution_count": 3,
   "id": "636d8cf9-0fe7-475f-bf79-9d69c02a6530",
   "metadata": {},
   "outputs": [
    {
     "data": {
      "text/plain": [
       "{'@type': 'Flow',\n",
       " '@id': '0c459494-7e0f-33a6-bc1c-11581ccac7cf',\n",
       " 'cas': '005208-87-7',\n",
       " 'category': 'Elementary flows/Emission to air/high population density',\n",
       " 'description': '',\n",
       " 'flowProperties': [{'conversionFactor': 1.0,\n",
       "   'flowProperty': {'@type': 'FlowProperty',\n",
       "    '@id': '93a60a56-a3c8-11da-a746-0800200b9a66',\n",
       "    'category': 'Technical flow properties',\n",
       "    'name': 'Mass',\n",
       "    'refUnit': 'kg'},\n",
       "   'isRefFlowProperty': True}],\n",
       " 'flowType': 'ELEMENTARY_FLOW',\n",
       " 'formula': '',\n",
       " 'isInfrastructureFlow': False,\n",
       " 'lastChange': '2024-05-23T08:17:51.712616Z',\n",
       " 'name': \"1'-Hydroxysafrole\",\n",
       " 'version': '00.00.000'}"
      ]
     },
     "execution_count": 3,
     "metadata": {},
     "output_type": "execute_result"
    }
   ],
   "source": [
    "import olca_ipc as ipc\n",
    "import olca_schema as schema\n",
    "import pandas as pd\n",
    "import json\n",
    "client = ipc.Client(8080)\n",
    "\n",
    "client\n",
    "\n",
    "# process_obj = client.get(schema.Process, '94db2f78-c821-4bdc-bdc4-2b9beaf4af2b') \n",
    "# process_obj.to_dict()\n",
    "\n",
    "flow_obj = client.get(schema.Flow, '0c459494-7e0f-33a6-bc1c-11581ccac7cf')\n",
    "flow_obj.to_dict()\n",
    "\n"
   ]
  },
  {
   "cell_type": "code",
   "execution_count": null,
   "id": "e11d580e-4d3a-463f-8af0-ceae7438ad6a",
   "metadata": {},
   "outputs": [],
   "source": []
  }
 ],
 "metadata": {
  "kernelspec": {
   "display_name": "Python 3 (ipykernel)",
   "language": "python",
   "name": "python3"
  },
  "language_info": {
   "codemirror_mode": {
    "name": "ipython",
    "version": 3
   },
   "file_extension": ".py",
   "mimetype": "text/x-python",
   "name": "python",
   "nbconvert_exporter": "python",
   "pygments_lexer": "ipython3",
   "version": "3.11.5"
  }
 },
 "nbformat": 4,
 "nbformat_minor": 5
}
