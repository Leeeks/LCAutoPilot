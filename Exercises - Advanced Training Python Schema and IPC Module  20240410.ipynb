{
 "cells": [
  {
   "cell_type": "markdown",
   "id": "3d8031e2-a530-46f8-958f-1ae81a185c2d",
   "metadata": {},
   "source": [
    "# Exercises - Python with openLCA2\n",
    "## a demonstration of the olca-ipc and olca-schema module for openLCA2\n"
   ]
  },
  {
   "cell_type": "markdown",
   "id": "3be322b5-6f20-4b28-b21c-212a7c54a910",
   "metadata": {},
   "source": [
    "__Exercise 1.__"
   ]
  },
  {
   "cell_type": "markdown",
   "id": "24bc41af-884b-4b27-b0b6-85a4ff5f4e3e",
   "metadata": {},
   "source": [
    "In the code cell below, create a Source Entity object with the name 'Test Source', the description 'This is a test source.' and the web address 'www.this_site_is_not_real.com'. Then display the created Source Entity object either as an object or as a dictionary below. __HINT__ use the _dir()_ function to help you navigate through the schema module!"
   ]
  },
  {
   "cell_type": "code",
   "execution_count": 4,
   "id": "cc143618-97ba-45c5-a98c-6e963fd07d73",
   "metadata": {},
   "outputs": [
    {
     "data": {
      "text/plain": [
       "{'@type': 'Source',\n",
       " '@id': 'd64fee9b-3272-4e30-a544-8180ab45aae5',\n",
       " 'description': 'This is a test source.',\n",
       " 'lastChange': '2024-04-17T15:05:34.374628Z',\n",
       " 'name': 'Test Source',\n",
       " 'url': 'www.this_site_is_not_real.com',\n",
       " 'version': '01.00.000'}"
      ]
     },
     "execution_count": 4,
     "metadata": {},
     "output_type": "execute_result"
    }
   ],
   "source": [
    "#Use this code cell to write your code\n",
    "import olca_schema as schema\n",
    "\n",
    "test_source = schema.Source(name=\"Test Source\", \n",
    "                            description=\"This is a test source.\", \n",
    "                            url = \"www.this_site_is_not_real.com\")\n",
    "\n",
    "test_source.name = \"Test Source\"\n",
    "test_source.description = \"This is a test source.\"\n",
    "test_source.url = \"www.this_site_is_not_real.com\"\n",
    "\n",
    "test_source.to_dict()\n"
   ]
  },
  {
   "cell_type": "markdown",
   "id": "b47794ed-41d1-4dcc-bb7f-055efb882c48",
   "metadata": {},
   "source": [
    "Solution 1."
   ]
  },
  {
   "cell_type": "code",
   "execution_count": null,
   "id": "e3cbf092-ec8c-4884-b242-9fd348af5f5e",
   "metadata": {
    "tags": []
   },
   "outputs": [],
   "source": [
    "#import the ipc-schema module\n",
    "import olca_schema as schema\n",
    "\n",
    "#create a Source entity. Use dir(schema) to see find the Entity types available\n",
    "source = schema.Source()\n",
    "\n",
    "#use dir(source) to find the right field names. Then assign each value to each respective field name.\n",
    "source.name = 'Test Source'\n",
    "source.description = 'This is a test source.'\n",
    "source.url = 'www.this_site_is_not_real.com'\n",
    "\n",
    "#display the Source Entity below by calling the variable name or dsplay the Entity as a dictionary/json object by calling source.to_dict()  \n",
    "source\n",
    "#source.to_dict()"
   ]
  },
  {
   "cell_type": "markdown",
   "id": "4413bc59-7ac3-49d0-a960-91c16e0be032",
   "metadata": {
    "editable": true,
    "slideshow": {
     "slide_type": ""
    },
    "tags": []
   },
   "source": [
    "__Exercise 2.__ "
   ]
  },
  {
   "cell_type": "markdown",
   "id": "ff05084b-3f4b-428a-b022-4ef424ec698e",
   "metadata": {
    "slideshow": {
     "slide_type": ""
    },
    "tags": []
   },
   "source": [
    "For our rice flour production example, from the Demonstration Jupyter Notebook, you may have noticed that we do not only need rice to make rice flour, but also energy to grind up the rice. We will need 2 kwh of electricity per one kilogram of rice flour, to be exact. We therefore need to add an input exchange for electricity to our process of rice flour production. To do so, create the following:\n",
    "\n",
    "- unit (name: kwh, description: kilowatt hour, conversion factor: 1, is reference unit: True)\n",
    "- unit group (name: Units of Energy)\n",
    "- flow property (name: Energy), \n",
    "- flow property factor (conversion factor: 1, is reference flow property: True)\n",
    "- flow (name: Electricity, flow type: product flow)\n",
    "- input exchange (amount: 2, is quantitative reference: False)\n",
    "\n",
    "Use these variable names when creating the respective objects:\n",
    "\n",
    "- kwh_unit\n",
    "- energy_flow_property\n",
    "- energy_unit_group\n",
    "- electricity_flow_property_factor\n",
    "- electricity_flow\n",
    "- electricity_exchange\n",
    "\n",
    "Then append the input exchange you created to the exchanges of the process using:\n",
    "\n",
    "_process.exchanges.append(electricity_exchange)_\n",
    "\n",
    "You will not need to create the entire rice flour production process from scratch again. I have provided you with the code to do so below. Only focus on the creation and addition of the electricity exchange. You can use this code as guide to help you tackle this excercise. Write your code underneath the hashtag demarkation in the code cell below."
   ]
  },
  {
   "cell_type": "code",
   "execution_count": 6,
   "id": "4327dc24-00a0-48a9-8997-35d7c7ff5c45",
   "metadata": {
    "editable": true,
    "slideshow": {
     "slide_type": ""
    },
    "tags": []
   },
   "outputs": [
    {
     "data": {
      "text/plain": [
       "{'@type': 'Process',\n",
       " '@id': '00e8a202-b749-465e-b682-e0185e937a4a',\n",
       " 'description': 'This process represents the production of rice flour.',\n",
       " 'exchanges': [{'amount': 1,\n",
       "   'flow': {'@type': 'Flow',\n",
       "    '@id': '876cc93d-ae9d-4de1-b4a1-1649bfcac044',\n",
       "    'flowProperties': [{'conversionFactor': 1,\n",
       "      'flowProperty': {'@type': 'FlowProperty',\n",
       "       '@id': '0f264f75-80ae-4664-ad78-148ddeb05a4e',\n",
       "       'lastChange': '2024-04-17T16:36:48.014042Z',\n",
       "       'name': 'Mass',\n",
       "       'unitGroup': {'@type': 'UnitGroup',\n",
       "        '@id': '33a107d1-7e69-49dd-8a9d-6fad1d9e7659',\n",
       "        'lastChange': '2024-04-17T16:36:48.014042Z',\n",
       "        'name': 'Units of Mass',\n",
       "        'units': [{'conversionFactor': 1,\n",
       "          'description': 'kilogram',\n",
       "          'isRefUnit': True,\n",
       "          'name': 'kg'}],\n",
       "        'version': '01.00.000'},\n",
       "       'version': '01.00.000'},\n",
       "      'isRefFlowProperty': True}],\n",
       "    'flowType': 'PRODUCT_FLOW',\n",
       "    'lastChange': '2024-04-17T16:36:48.015055Z',\n",
       "    'name': 'Rice',\n",
       "    'version': '01.00.000'},\n",
       "   'flowProperty': {'@type': 'FlowProperty',\n",
       "    '@id': '0f264f75-80ae-4664-ad78-148ddeb05a4e',\n",
       "    'lastChange': '2024-04-17T16:36:48.014042Z',\n",
       "    'name': 'Mass',\n",
       "    'unitGroup': {'@type': 'UnitGroup',\n",
       "     '@id': '33a107d1-7e69-49dd-8a9d-6fad1d9e7659',\n",
       "     'lastChange': '2024-04-17T16:36:48.014042Z',\n",
       "     'name': 'Units of Mass',\n",
       "     'units': [{'conversionFactor': 1,\n",
       "       'description': 'kilogram',\n",
       "       'isRefUnit': True,\n",
       "       'name': 'kg'}],\n",
       "     'version': '01.00.000'},\n",
       "    'version': '01.00.000'},\n",
       "   'isInput': True,\n",
       "   'isQuantitativeReference': False,\n",
       "   'unit': {'conversionFactor': 1,\n",
       "    'description': 'kilogram',\n",
       "    'isRefUnit': True,\n",
       "    'name': 'kg'}},\n",
       "  {'amount': 1,\n",
       "   'flow': {'@type': 'Flow',\n",
       "    '@id': '2b620ad2-36b1-4a12-9cc2-8855f51b34f2',\n",
       "    'flowProperties': [{'conversionFactor': 1,\n",
       "      'flowProperty': {'@type': 'FlowProperty',\n",
       "       '@id': '0f264f75-80ae-4664-ad78-148ddeb05a4e',\n",
       "       'lastChange': '2024-04-17T16:36:48.014042Z',\n",
       "       'name': 'Mass',\n",
       "       'unitGroup': {'@type': 'UnitGroup',\n",
       "        '@id': '33a107d1-7e69-49dd-8a9d-6fad1d9e7659',\n",
       "        'lastChange': '2024-04-17T16:36:48.014042Z',\n",
       "        'name': 'Units of Mass',\n",
       "        'units': [{'conversionFactor': 1,\n",
       "          'description': 'kilogram',\n",
       "          'isRefUnit': True,\n",
       "          'name': 'kg'}],\n",
       "        'version': '01.00.000'},\n",
       "       'version': '01.00.000'},\n",
       "      'isRefFlowProperty': True}],\n",
       "    'flowType': 'PRODUCT_FLOW',\n",
       "    'lastChange': '2024-04-17T16:36:48.015055Z',\n",
       "    'name': 'Rice Flour',\n",
       "    'version': '01.00.000'},\n",
       "   'flowProperty': {'@type': 'FlowProperty',\n",
       "    '@id': '0f264f75-80ae-4664-ad78-148ddeb05a4e',\n",
       "    'lastChange': '2024-04-17T16:36:48.014042Z',\n",
       "    'name': 'Mass',\n",
       "    'unitGroup': {'@type': 'UnitGroup',\n",
       "     '@id': '33a107d1-7e69-49dd-8a9d-6fad1d9e7659',\n",
       "     'lastChange': '2024-04-17T16:36:48.014042Z',\n",
       "     'name': 'Units of Mass',\n",
       "     'units': [{'conversionFactor': 1,\n",
       "       'description': 'kilogram',\n",
       "       'isRefUnit': True,\n",
       "       'name': 'kg'}],\n",
       "     'version': '01.00.000'},\n",
       "    'version': '01.00.000'},\n",
       "   'isInput': False,\n",
       "   'isQuantitativeReference': True,\n",
       "   'unit': {'conversionFactor': 1,\n",
       "    'description': 'kilogram',\n",
       "    'isRefUnit': True,\n",
       "    'name': 'kg'}},\n",
       "  {'amount': 2,\n",
       "   'flow': {'@type': 'Flow',\n",
       "    '@id': '36fd44e6-de2c-4713-8d89-f208bebe094d',\n",
       "    'flowProperties': [{'conversionFactor': 1,\n",
       "      'flowProperty': {'@type': 'FlowProperty',\n",
       "       '@id': 'a124c4f5-53a4-4faa-bfe7-d66209a85eac',\n",
       "       'lastChange': '2024-04-17T16:36:48.016062Z',\n",
       "       'name': 'Energy',\n",
       "       'unitGroup': {'@type': 'UnitGroup',\n",
       "        '@id': 'e9334aa6-a01e-44d5-a6e7-5d184295178a',\n",
       "        'lastChange': '2024-04-17T16:36:48.016062Z',\n",
       "        'name': 'Units of Energy',\n",
       "        'units': [{'conversionFactor': 1,\n",
       "          'description': 'kilowatt hours',\n",
       "          'isRefUnit': True,\n",
       "          'name': 'kWh'}],\n",
       "        'version': '01.00.000'},\n",
       "       'version': '01.00.000'},\n",
       "      'isRefFlowProperty': True}],\n",
       "    'flowType': 'PRODUCT_FLOW',\n",
       "    'lastChange': '2024-04-17T16:36:48.016062Z',\n",
       "    'name': 'Electricity',\n",
       "    'version': '01.00.000'},\n",
       "   'flowProperty': {'@type': 'FlowProperty',\n",
       "    '@id': 'a124c4f5-53a4-4faa-bfe7-d66209a85eac',\n",
       "    'lastChange': '2024-04-17T16:36:48.016062Z',\n",
       "    'name': 'Energy',\n",
       "    'unitGroup': {'@type': 'UnitGroup',\n",
       "     '@id': 'e9334aa6-a01e-44d5-a6e7-5d184295178a',\n",
       "     'lastChange': '2024-04-17T16:36:48.016062Z',\n",
       "     'name': 'Units of Energy',\n",
       "     'units': [{'conversionFactor': 1,\n",
       "       'description': 'kilowatt hours',\n",
       "       'isRefUnit': True,\n",
       "       'name': 'kWh'}],\n",
       "     'version': '01.00.000'},\n",
       "    'version': '01.00.000'},\n",
       "   'isInput': True,\n",
       "   'isQuantitativeReference': False,\n",
       "   'unit': {'conversionFactor': 1,\n",
       "    'description': 'kilowatt hours',\n",
       "    'isRefUnit': True,\n",
       "    'name': 'kWh'}}],\n",
       " 'lastChange': '2024-04-17T16:36:48.016062Z',\n",
       " 'name': 'Rice Flour Production',\n",
       " 'processType': 'UNIT_PROCESS',\n",
       " 'version': '01.00.000'}"
      ]
     },
     "execution_count": 6,
     "metadata": {},
     "output_type": "execute_result"
    }
   ],
   "source": [
    "import olca_schema as schema\n",
    "\n",
    "kg_unit = schema.Unit()\n",
    "kg_unit.name = 'kg'\n",
    "kg_unit.description = 'kilogram'\n",
    "kg_unit.conversion_factor = 1\n",
    "kg_unit.is_ref_unit = True\n",
    "\n",
    "mass_unit_group = schema.UnitGroup()\n",
    "mass_unit_group.name = 'Units of Mass'\n",
    "mass_unit_group.units = [kg_unit]\n",
    "\n",
    "mass_flow_property = schema.FlowProperty()\n",
    "mass_flow_property.name = 'Mass'\n",
    "mass_flow_property.unit_group = mass_unit_group\n",
    "mass_flow_property.flow_property_type = schema.FlowPropertyType.PHYSICAL_QUANTITY\n",
    "\n",
    "rice_flow_property_factor = schema.FlowPropertyFactor()\n",
    "rice_flow_property_factor.is_ref_flow_property = True\n",
    "rice_flow_property_factor.conversion_factor = 1\n",
    "rice_flow_property_factor.flow_property = mass_flow_property\n",
    "\n",
    "rice_flow = schema.Flow()\n",
    "rice_flow.name = 'Rice'\n",
    "rice_flow.flow_properties = [rice_flow_property_factor]\n",
    "rice_flow.flow_type = schema.FlowType.PRODUCT_FLOW\n",
    "\n",
    "flour_flow_property_factor = schema.FlowPropertyFactor()\n",
    "flour_flow_property_factor.is_ref_flow_property = True\n",
    "flour_flow_property_factor.conversion_factor = 1\n",
    "flour_flow_property_factor.flow_property = mass_flow_property\n",
    "\n",
    "flour_flow = schema.Flow()\n",
    "flour_flow.name = 'Rice Flour'\n",
    "flour_flow.flow_properties = [flour_flow_property_factor]\n",
    "flour_flow.flow_type = schema.FlowType.PRODUCT_FLOW\n",
    "\n",
    "rice_exchange = schema.Exchange()\n",
    "rice_exchange.is_input = True\n",
    "rice_exchange.flow = rice_flow\n",
    "rice_exchange.flow_property = mass_flow_property\n",
    "rice_exchange.unit = kg_unit\n",
    "rice_exchange.amount = 1\n",
    "rice_exchange.is_quantitative_reference = False\n",
    "\n",
    "flour_exchange = schema.Exchange()\n",
    "flour_exchange.is_input = False\n",
    "flour_exchange.flow = flour_flow\n",
    "flour_exchange.flow_property = mass_flow_property\n",
    "flour_exchange.unit = kg_unit\n",
    "flour_exchange.amount = 1\n",
    "flour_exchange.is_quantitative_reference = True\n",
    "\n",
    "process = schema.Process()\n",
    "process.name = 'Rice Flour Production'\n",
    "process.description = 'This process represents the production of rice flour.'\n",
    "process.exchanges = [rice_exchange, flour_exchange]\n",
    "process.process_type = schema.ProcessType.UNIT_PROCESS\n",
    "\n",
    "####### create new flow property, flow, unit, unit_group and exchange for 2 kwh below ###########\n",
    "\n",
    "kwh_unit = schema.Unit()\n",
    "kwh_unit.name = 'kWh'\n",
    "kwh_unit.description = 'kilowatt hours'\n",
    "kwh_unit.conversion_factor = 1\n",
    "kwh_unit.is_ref_unit = True\n",
    "\n",
    "energy_unit_group = schema.UnitGroup()\n",
    "energy_unit_group.name = 'Units of Energy'\n",
    "energy_unit_group.units = [kwh_unit]\n",
    "\n",
    "energy_flow_property = schema.FlowProperty()\n",
    "energy_flow_property.name = 'Energy'\n",
    "energy_flow_property.unit_group = energy_unit_group\n",
    "energy_flow_property.flow_property_type = schema.FlowPropertyType.PHYSICAL_QUANTITY\n",
    "\n",
    "electricity_flow_property_factor = schema.FlowPropertyFactor()\n",
    "electricity_flow_property_factor.is_ref_flow_property = True\n",
    "electricity_flow_property_factor.conversion_factor = 1\n",
    "electricity_flow_property_factor.flow_property = energy_flow_property\n",
    "\n",
    "electricity_flow = schema.Flow()\n",
    "electricity_flow.name = 'Electricity'\n",
    "electricity_flow.flow_properties = [electricity_flow_property_factor]\n",
    "electricity_flow.flow_type = schema.FlowType.PRODUCT_FLOW\n",
    "\n",
    "electricity_exchange = schema.Exchange()\n",
    "electricity_exchange.is_input = True\n",
    "electricity_exchange.flow = electricity_flow\n",
    "electricity_exchange.flow_property = energy_flow_property\n",
    "electricity_exchange.unit = kwh_unit\n",
    "electricity_exchange.amount = 2\n",
    "electricity_exchange.is_quantitative_reference = False\n",
    "\n",
    "process.exchanges.append(electricity_exchange)\n",
    "process.to_dict()"
   ]
  },
  {
   "cell_type": "markdown",
   "id": "7e0be55b-6e80-466a-9a4b-a8a34669a59d",
   "metadata": {},
   "source": [
    "Solution 2. "
   ]
  },
  {
   "cell_type": "code",
   "execution_count": 13,
   "id": "a4f5df99-e31d-4059-bd62-9abb630104b0",
   "metadata": {
    "editable": true,
    "slideshow": {
     "slide_type": ""
    },
    "tags": []
   },
   "outputs": [
    {
     "name": "stdout",
     "output_type": "stream",
     "text": [
      "Rice\n",
      "Rice Flour\n",
      "Electricity\n"
     ]
    },
    {
     "data": {
      "text/plain": [
       "{'@type': 'FlowProperty',\n",
       " '@id': 'eb4d7311-21e3-4979-93b0-8597b359f0fe',\n",
       " 'flowPropertyType': 'PHYSICAL_QUANTITY',\n",
       " 'lastChange': '2024-04-17T16:50:28.156849Z',\n",
       " 'name': 'Energy',\n",
       " 'unitGroup': {'@type': 'UnitGroup',\n",
       "  '@id': '925b21f0-ae23-4e63-b707-aebabf90f73c',\n",
       "  'lastChange': '2024-04-17T16:50:28.156849Z',\n",
       "  'name': 'Units of Energy',\n",
       "  'units': [{'conversionFactor': 1,\n",
       "    'description': 'kilowatt hour',\n",
       "    'isRefUnit': True,\n",
       "    'name': 'kwh'}],\n",
       "  'version': '01.00.000'},\n",
       " 'version': '01.00.000'}"
      ]
     },
     "execution_count": 13,
     "metadata": {},
     "output_type": "execute_result"
    }
   ],
   "source": [
    "import olca_schema as schema\n",
    "\n",
    "kg_unit = schema.Unit()\n",
    "kg_unit.name = 'kg'\n",
    "kg_unit.description = 'kilogram'\n",
    "kg_unit.conversion_factor = 1\n",
    "kg_unit.is_ref_unit = True\n",
    "\n",
    "mass_unit_group = schema.UnitGroup()\n",
    "mass_unit_group.name = 'Units of Mass'\n",
    "mass_unit_group.units = [kg_unit]\n",
    "\n",
    "mass_flow_property = schema.FlowProperty()\n",
    "mass_flow_property.name = 'Mass'\n",
    "mass_flow_property.unit_group = mass_unit_group\n",
    "mass_flow_property.flow_property_type = schema.FlowPropertyType.PHYSICAL_QUANTITY\n",
    "\n",
    "rice_flow_property_factor = schema.FlowPropertyFactor()\n",
    "rice_flow_property_factor.is_ref_flow_property = True\n",
    "rice_flow_property_factor.conversion_factor = 1\n",
    "rice_flow_property_factor.flow_property = mass_flow_property\n",
    "\n",
    "rice_flow = schema.Flow()\n",
    "rice_flow.name = 'Rice'\n",
    "rice_flow.flow_properties = [rice_flow_property_factor]\n",
    "rice_flow.flow_type = schema.FlowType.PRODUCT_FLOW\n",
    "\n",
    "flour_flow_property_factor = schema.FlowPropertyFactor()\n",
    "flour_flow_property_factor.is_ref_flow_property = True\n",
    "flour_flow_property_factor.conversion_factor = 1\n",
    "flour_flow_property_factor.flow_property = mass_flow_property\n",
    "\n",
    "flour_flow = schema.Flow()\n",
    "flour_flow.name = 'Rice Flour'\n",
    "flour_flow.flow_properties = [flour_flow_property_factor]\n",
    "flour_flow.flow_type = schema.FlowType.PRODUCT_FLOW\n",
    "\n",
    "rice_exchange = schema.Exchange()\n",
    "rice_exchange.is_input = True\n",
    "rice_exchange.flow = rice_flow\n",
    "rice_exchange.flow_property = mass_flow_property\n",
    "rice_exchange.unit = kg_unit\n",
    "rice_exchange.amount = 1\n",
    "rice_exchange.is_quantitative_reference = False\n",
    "\n",
    "flour_exchange = schema.Exchange()\n",
    "flour_exchange.is_input = False\n",
    "flour_exchange.flow = flour_flow\n",
    "flour_exchange.flow_property = mass_flow_property\n",
    "flour_exchange.unit = kg_unit\n",
    "flour_exchange.amount = 1\n",
    "flour_exchange.is_quantitative_reference = True\n",
    "\n",
    "process = schema.Process()\n",
    "process.name = 'Rice Flour Production'\n",
    "process.description = 'This process represents the production of rice flour.'\n",
    "process.exchanges = [rice_exchange, flour_exchange]\n",
    "process.process_type = schema.ProcessType.UNIT_PROCESS\n",
    "\n",
    "####### create new flow property, flow, unit, unit_group and exchange for 2 kwh below ###########\n",
    "\n",
    "#create a unit for kilowatt hours\n",
    "kwh_unit = schema.Unit()\n",
    "kwh_unit.name = 'kwh'\n",
    "kwh_unit.description = 'kilowatt hour'\n",
    "kwh_unit.conversion_factor = 1\n",
    "kwh_unit.is_ref_unit = True\n",
    "\n",
    "#create a unit group for energy\n",
    "energy_unit_group = schema.UnitGroup()\n",
    "energy_unit_group.name = 'Units of Energy'\n",
    "energy_unit_group.units = [kwh_unit]\n",
    "\n",
    "#create a flow property for energy\n",
    "energy_flow_property = schema.FlowProperty()\n",
    "energy_flow_property.name = 'Energy'\n",
    "energy_flow_property.unit_group = energy_unit_group\n",
    "energy_flow_property.flow_property_type = schema.FlowPropertyType.PHYSICAL_QUANTITY\n",
    "\n",
    "#create a flow property factor that connects the flow property energy with the flow electricity\n",
    "electricity_flow_property_factor = schema.FlowPropertyFactor()\n",
    "electricity_flow_property_factor.is_ref_flow_property = True\n",
    "electricity_flow_property_factor.conversion_factor = 1\n",
    "electricity_flow_property_factor.flow_property = energy_flow_property\n",
    "\n",
    "#create a flow for electricity\n",
    "electricity_flow = schema.Flow()\n",
    "electricity_flow.name = 'Electricity'\n",
    "electricity_flow.flow_properties = [electricity_flow_property_factor]\n",
    "electricity_flow.flow_type = schema.FlowType.PRODUCT_FLOW\n",
    "\n",
    "#create an exchange for electricity\n",
    "electricity_exchange = schema.Exchange()\n",
    "electricity_exchange.is_input = True\n",
    "electricity_exchange.flow = electricity_flow\n",
    "electricity_exchange.flow_property = energy_flow_property\n",
    "electricity_exchange.unit = kwh_unit\n",
    "electricity_exchange.amount = 2\n",
    "electricity_exchange.is_quantitative_reference = False\n",
    "\n",
    "#add the electricity exchange to the rice flour production process\n",
    "process.exchanges.append(electricity_exchange)\n",
    "process.to_dict()\n",
    "\n",
    "for exchange in process.exchanges:\n",
    "    print(exchange.flow.name)\n"
   ]
  },
  {
   "cell_type": "markdown",
   "id": "6a082af5-6875-435b-b3e4-0f903512eeb0",
   "metadata": {
    "tags": []
   },
   "source": [
    "__Exercise 3.__"
   ]
  },
  {
   "cell_type": "markdown",
   "id": "817d0ca1-1cc6-4dd2-8464-c600b3bcd483",
   "metadata": {},
   "source": [
    "Using the database __'regionalized_lca_training_10'__ in openLCA2.0.0, open the ipc server on port 8080, create a client on the same port the ipc server uses and access the descriptor/reference of the process 'irrigation | irrigation | cut-off, S ' with the uuid 'e84d2fa6-72e1-4cb7-a4fe-c93bc76388d5' both via its name as well as via its uuid in the code cell below. What do you notice about the uuids? Write your findings in the text cell below the two code cells."
   ]
  },
  {
   "cell_type": "code",
   "execution_count": null,
   "id": "e25fc52c-a3e2-4709-935a-a432186df7c5",
   "metadata": {
    "editable": true,
    "slideshow": {
     "slide_type": ""
    },
    "tags": []
   },
   "outputs": [],
   "source": [
    "#access process via name in this code cell\n"
   ]
  },
  {
   "cell_type": "code",
   "execution_count": null,
   "id": "443c3ffd-2738-4b81-926c-c7a5f2ce5462",
   "metadata": {
    "editable": true,
    "slideshow": {
     "slide_type": ""
    },
    "tags": []
   },
   "outputs": [],
   "source": [
    "#access process via uuid in this code cell\n"
   ]
  },
  {
   "cell_type": "markdown",
   "id": "c05177b2-b303-4809-9736-78b9efad63f1",
   "metadata": {
    "editable": true,
    "slideshow": {
     "slide_type": ""
    },
    "tags": []
   },
   "source": [
    "Write your findings in the text cell below"
   ]
  },
  {
   "cell_type": "raw",
   "id": "b08ba3d9-45bc-4e1d-80d6-24f6672b1630",
   "metadata": {},
   "source": []
  },
  {
   "cell_type": "markdown",
   "id": "dfb15883-6250-4e63-8b73-5286f517518d",
   "metadata": {},
   "source": [
    "Solution 3."
   ]
  },
  {
   "cell_type": "code",
   "execution_count": 15,
   "id": "18b23eb9-d776-4315-977e-de8d6a2ee1c7",
   "metadata": {
    "tags": []
   },
   "outputs": [
    {
     "data": {
      "text/plain": [
       "Ref(id='e84d2fa6-72e1-4cb7-a4fe-c93bc76388d5', category='A:Agriculture, forestry and fishing/01:Crop and animal production, hunting and related service activities/016:Support activities to agriculture and post-harvest crop activities/0161:Support activities for crop production', description=None, flow_type=<FlowType.PRODUCT_FLOW: 'PRODUCT_FLOW'>, location='US', name='irrigation | irrigation | cut-off, S ', process_type=<ProcessType.LCI_RESULT: 'LCI_RESULT'>, ref_unit=None, ref_type=<RefType.Process: 'Process'>)"
      ]
     },
     "execution_count": 15,
     "metadata": {},
     "output_type": "execute_result"
    }
   ],
   "source": [
    "import olca_ipc as ipc\n",
    "\n",
    "#create the client on port 8080 to be able to communicate with the ipc server in openLCA and in turn the database you have open in openLCA\n",
    "client = ipc.Client(8080)\n",
    "\n",
    "#first, access the process using the name like this:\n",
    "process_via_name = client.get_descriptor(schema.Process, name='irrigation | irrigation | cut-off, S ')\n",
    "process_via_name\n",
    "\n",
    "#output:\n",
    "#Ref(id='91bfccc2-7bba-4a40-a821-3e02f9f42c3f', category='A:Agriculture, forestry and fishing/01:Crop and animal production, hunting and related service activities/016:Support activities to agriculture and post-harvest crop activities/0161:Support activities for crop production', description=None, flow_type=<FlowType.PRODUCT_FLOW: 'PRODUCT_FLOW'>, location='US-TX', name='irrigation | irrigation | cut-off, S', process_type=<ProcessType.LCI_RESULT: 'LCI_RESULT'>, ref_unit=None, ref_type=<RefType.Process: 'Process'>)\n",
    "\n",
    "#secondly, access the process using the uuid like this:\n",
    "process_via_uuid = client.get_descriptor(schema.Process, 'e84d2fa6-72e1-4cb7-a4fe-c93bc76388d5')\n",
    "process_via_uuid\n",
    "\n",
    "#output:\n",
    "#Ref(id='e84d2fa6-72e1-4cb7-a4fe-c93bc76388d5', category='A:Agriculture, forestry and fishing/01:Crop and animal production, hunting and related service activities/016:Support activities to agriculture and post-harvest crop activities/0161:Support activities for crop production', description=None, flow_type=<FlowType.PRODUCT_FLOW: 'PRODUCT_FLOW'>, location='US', name='irrigation | irrigation | cut-off, S ', process_type=<ProcessType.LCI_RESULT: 'LCI_RESULT'>, ref_unit=None, ref_type=<RefType.Process: 'Process'>)\n",
    "\n",
    "#Findings:\n",
    "#When you access the process using the name, you do not get the same object as the one with the uuid I instructed you to get. You can see that by the differing uuids in the output.\n",
    "\n",
    "#TAKE AWAY MESSAGE:\n",
    "#If you can avoid it, do not access any Entity using its name as duplicate names may cause you to access the wrong Entity. This is especially true for databases with regionalised flows or processes since the names here are often the same and are only differentiated via their location."
   ]
  },
  {
   "cell_type": "markdown",
   "id": "033ca14d-e6d6-4537-9ebf-0fc605e1b119",
   "metadata": {
    "editable": true,
    "slideshow": {
     "slide_type": ""
    },
    "tags": []
   },
   "source": [
    "__Exercise 4.__"
   ]
  },
  {
   "cell_type": "markdown",
   "id": "186877c3-6879-41c1-a1ec-c3bf5279969f",
   "metadata": {
    "editable": true,
    "slideshow": {
     "slide_type": ""
    },
    "tags": []
   },
   "source": [
    "In openLCA2, create a new and entirely empty database (call it 'Empty_DB'). Then open the ipc server on port 8080 and create a client on the same port the ipc server uses. Now run the solutions cell from __Exercise 2__ (or the code from your work code cell for Exercise 2 if you got this code correct). This will load the process, unit groups, flows etc. for the rice flour production into memory. Now we want to insert these objects into openLCA. Your task will be to insert all of these Entity objects into the empty database you just created. Remember the variable names of the created Entities:\n",
    "\n",
    "- mass_flow_property\n",
    "- kg_unit\n",
    "- mass_unit_group\n",
    "- rice_flow_property_factor\n",
    "- rice_flow\n",
    "- flour_flow_property_factor\n",
    "- flour_flow\n",
    "- rice_exchange\n",
    "- flour_exchange\n",
    "- process\n",
    "- kwh_unit\n",
    "- energy_flow_property\n",
    "- energy_unit_group\n",
    "- electricity_flow_property_factor\n",
    "- electricity_flow\n",
    "- electricity_exchange\n",
    "\n",
    "__IMPORTANT__ You might not get this right the first time you run your code. That is ok of course! However, since the order in which you insert the objects into the database matters, it would be best if you delete and rebuild the empty database in between each run of this code cell to have a clean slate to work with.\n",
    "\n",
    "__HINT__ Think about the order in which you insert the Entity objects into the database as well as what Entity objects actually need to be inserted directly (i.e. are RootEntities) and which need to be inserted via a RootEntity object. To help you identify which Entities are RootEntities, have a look at the openLCA schema documentation: https://greendelta.github.io/olca-schema  \n"
   ]
  },
  {
   "cell_type": "code",
   "execution_count": null,
   "id": "c773aa7c-08ad-4583-8d84-09eafa2b7ab1",
   "metadata": {
    "editable": true,
    "slideshow": {
     "slide_type": ""
    },
    "tags": []
   },
   "outputs": [],
   "source": [
    "#Use this code cell to write your code\n"
   ]
  },
  {
   "cell_type": "markdown",
   "id": "0cb43063-6641-42d7-9f40-814212870b67",
   "metadata": {
    "editable": true,
    "slideshow": {
     "slide_type": ""
    },
    "tags": []
   },
   "source": [
    "Solution 4. "
   ]
  },
  {
   "cell_type": "code",
   "execution_count": 16,
   "id": "268a70d3-77d5-4c63-90da-26d43b94f2d9",
   "metadata": {
    "tags": []
   },
   "outputs": [
    {
     "data": {
      "text/plain": [
       "Ref(id='1de8def0-3c55-4a66-8f89-275c33062bf2', category=None, description=None, flow_type=<FlowType.PRODUCT_FLOW: 'PRODUCT_FLOW'>, location=None, name='Rice Flour Production', process_type=<ProcessType.UNIT_PROCESS: 'UNIT_PROCESS'>, ref_unit=None, ref_type=<RefType.Process: 'Process'>)"
      ]
     },
     "execution_count": 16,
     "metadata": {},
     "output_type": "execute_result"
    }
   ],
   "source": [
    "import olca_ipc as ipc\n",
    "import olca_schema as schema\n",
    "\n",
    "#create the client on port 8080 to be able to communicate with the ipc server in openLCA and in turn the database you have open in openLCA\n",
    "client = ipc.Client(8080)\n",
    "\n",
    "#since the Unit Entity belongs to the UnitGroup Entity, the Exchange Entity belongs to the Process Entity and the FlowPropertyFactor Entity belongs to the Flow Entity, these will be inserted indirectly via their respective RootEntities\n",
    "#the order in which you add Entities to the database is important. If one Entity references another and that referenced Entity is not in the database already, no reference can be built in openLCA and you will get errors inside your database!!!\n",
    "#in our example, the correct order in which to add each Entity is:\n",
    "\n",
    "# 1. Unit Group\n",
    "# 2. Flow Property\n",
    "# 3. Flow\n",
    "# 4. Process\n",
    "\n",
    "client.put(mass_unit_group)\n",
    "client.put(energy_unit_group)\n",
    "client.put(mass_flow_property)\n",
    "client.put(energy_flow_property)\n",
    "client.put(rice_flow)\n",
    "client.put(flour_flow)\n",
    "client.put(electricity_flow)\n",
    "client.put(process)\n"
   ]
  },
  {
   "cell_type": "markdown",
   "id": "9eddd121-e757-4f61-afe3-f4b5d8ad91bc",
   "metadata": {},
   "source": [
    "__Exercise 5.__"
   ]
  },
  {
   "cell_type": "markdown",
   "id": "fc70e241-783e-415a-a45b-f003c3ce35a6",
   "metadata": {
    "editable": true,
    "slideshow": {
     "slide_type": ""
    },
    "tags": []
   },
   "source": [
    "Using the database __'regionalized_lca_training_10'__ in openLCA2, open the ipc server on port 8080, create a client on the same port the ipc server uses and access the descriptor/reference of the process 'shed construction | shed | cut-off, S' ('bd576404-d70a-30f8-9a1c-875b5bf4e358'). Then create a product system from this process and run an impact calculation using the impact method 'WATER - ReCiPe Midpoint (H)' ('bcabc2f0-cf1c-449f-94b0-49a3d306d185'). Lastly, display the results by iterating over the results object. The impact method only holds one impact category, so you should only get a result for one impact (water depletion). __Remember to use the _result.wait_until_ready()_ method on the results object!__\n"
   ]
  },
  {
   "cell_type": "code",
   "execution_count": null,
   "id": "66963fdd-1c8d-4332-bd32-d104bc88d6c0",
   "metadata": {
    "editable": true,
    "slideshow": {
     "slide_type": ""
    },
    "tags": []
   },
   "outputs": [],
   "source": [
    "#Use this code cell to write your code\n"
   ]
  },
  {
   "cell_type": "markdown",
   "id": "445efb70-4ddb-48e7-9075-e8ca45b0f610",
   "metadata": {
    "editable": true,
    "slideshow": {
     "slide_type": ""
    },
    "tags": []
   },
   "source": [
    "Solution 5."
   ]
  },
  {
   "cell_type": "code",
   "execution_count": null,
   "id": "b12607b3-95e6-49ca-a624-310e5ee87343",
   "metadata": {
    "tags": []
   },
   "outputs": [],
   "source": [
    "import olca_ipc as ipc\n",
    "import olca_schema as schema\n",
    "\n",
    "#create the client on port 8080 to be able to communicate with the ipc server in openLCA and in turn the database you have open in openLCA\n",
    "client = ipc.Client(8080)\n",
    "\n",
    "#access the reference of the process\n",
    "process_ref = client.get_descriptor(schema.Process, 'bd576404-d70a-30f8-9a1c-875b5bf4e358')\n",
    "\n",
    "#setup the configurations for the creation of the product system\n",
    "config = schema.LinkingConfig(prefer_unit_processes=True, provider_linking=schema.ProviderLinking.PREFER_DEFAULTS)\n",
    "\n",
    "#create the product system\n",
    "#this will automatically insert the product system into the database you have open in openLCA\n",
    "product_system_ref = client.create_product_system(process_ref, config)\n",
    "\n",
    "#access the reference of the impact method\n",
    "impact_method_ref = client.get_descriptor(schema.ImpactMethod, 'bcabc2f0-cf1c-449f-94b0-49a3d306d185')\n",
    "\n",
    "#setup the configurations for the impact calculation\n",
    "setup = schema.CalculationSetup(target=product_system_ref, impact_method=impact_method_ref)\n",
    "\n",
    "#run the impact calculation\n",
    "#remember that the calculation of the impact method does not occur asynchronisely, therefore it is important that call the wait_unitl_ready() method after you created the results object!\n",
    "result = client.calculate(setup)\n",
    "state = result.wait_until_ready()\n",
    "print(f\"result id: {state.id}\")\n",
    "\n",
    "#iterate over the results object and print the result\n",
    "for impact in result.get_total_impacts():\n",
    "    print(f\"{impact.impact_category.name}: {impact.amount} {impact.impact_category.ref_unit}\")"
   ]
  },
  {
   "cell_type": "markdown",
   "id": "4dcd4857-18a0-4f37-b1bf-92948805fda0",
   "metadata": {},
   "source": [
    "</br>\n",
    "This concludes this Exercise Jupyter Notebook for the Python Advanced openLCA Training.\n",
    "</br>\n",
    "</br>\n",
    "<b>Thank you very much for your attention and participation!</b>"
   ]
  },
  {
   "cell_type": "markdown",
   "id": "1f8a8236-6e60-46fb-9c97-c959990e6da6",
   "metadata": {},
   "source": [
    "</br>\n",
    "</br>"
   ]
  },
  {
   "cell_type": "markdown",
   "id": "8971b4bf-418e-46b5-afd6-a91435eef2ca",
   "metadata": {},
   "source": [
    "### __Author:__ Raphael Sebastian Zimmermann\n",
    "### __Company Address:__ GreenDelta GmbH, Alt-Moabit 130, 10557 Berlin\n",
    "### __Date:__ 12.04.2024"
   ]
  },
  {
   "cell_type": "code",
   "execution_count": null,
   "id": "9bbfb016-1f4d-4583-83ca-5341a6fd1461",
   "metadata": {},
   "outputs": [],
   "source": []
  }
 ],
 "metadata": {
  "kernelspec": {
   "display_name": "Python 3 (ipykernel)",
   "language": "python",
   "name": "python3"
  },
  "language_info": {
   "codemirror_mode": {
    "name": "ipython",
    "version": 3
   },
   "file_extension": ".py",
   "mimetype": "text/x-python",
   "name": "python",
   "nbconvert_exporter": "python",
   "pygments_lexer": "ipython3",
   "version": "3.11.5"
  }
 },
 "nbformat": 4,
 "nbformat_minor": 5
}
